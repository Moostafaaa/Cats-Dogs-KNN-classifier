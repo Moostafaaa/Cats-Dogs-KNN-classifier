{
  "nbformat": 4,
  "nbformat_minor": 0,
  "metadata": {
    "colab": {
      "provenance": []
    },
    "kernelspec": {
      "name": "python3",
      "display_name": "Python 3"
    },
    "language_info": {
      "name": "python"
    },
    "gpuClass": "standard"
  },
  "cells": [
    {
      "cell_type": "code",
      "execution_count": null,
      "metadata": {
        "colab": {
          "base_uri": "https://localhost:8080/"
        },
        "id": "J9tbsVhtSoaD",
        "outputId": "6f09b610-091e-43c0-e42b-121e79bb7542"
      },
      "outputs": [
        {
          "output_type": "stream",
          "name": "stdout",
          "text": [
            "Drive already mounted at /content/gdrive; to attempt to forcibly remount, call drive.mount(\"/content/gdrive\", force_remount=True).\n"
          ]
        }
      ],
      "source": [
        "from sklearn.neighbors import KNeighborsClassifier\n",
        "from sklearn.model_selection import train_test_split\n",
        "from imutils import paths\n",
        "import pandas as pd\n",
        "import numpy as np \n",
        "import imutils\n",
        "import cv2\n",
        "import os\n",
        "from pydrive.auth import GoogleAuth\n",
        "from pydrive.drive import GoogleDrive\n",
        "from google.colab import auth\n",
        "from oauth2client.client import GoogleCredentials\n",
        "import io\n",
        "import zipfile\n",
        "from pathlib import Path\n",
        "Path.cwd()\n",
        "from google.colab import drive\n",
        "drive.mount('/content/gdrive')"
      ]
    },
    {
      "cell_type": "code",
      "source": [
        "train_dir = '/content/gdrive/MyDrive/NTI/Week 4/week4 task/train'\n",
        "test_dir = '/content/gdrive/MyDrive/NTI/Week 4/week4 task/test1'"
      ],
      "metadata": {
        "id": "9tPd1Hx7SzSD"
      },
      "execution_count": null,
      "outputs": []
    },
    {
      "cell_type": "code",
      "source": [
        "def image_to_feature_vector(image, size=(32, 32)):\n",
        "\t# resize the image to a fixed size, then flatten the image into a list of raw pixel intensities\n",
        "\treturn cv2.resize(image, size).flatten()"
      ],
      "metadata": {
        "id": "X6AQ98fnSzPT"
      },
      "execution_count": null,
      "outputs": []
    },
    {
      "cell_type": "code",
      "source": [
        "def extract_color_histogram(image, bins=(8, 8, 8)):\n",
        "\t# extract a 3D color histogram from the HSV color space using\n",
        "\t# the supplied number of `bins` per channel\n",
        "\thsv = cv2.cvtColor(image, cv2.COLOR_BGR2HSV)\n",
        "\thist = cv2.calcHist([hsv], [0, 1, 2], None, bins,\n",
        "\t\t[0, 180, 0, 256, 0, 256])\n",
        "\t# handle normalizing the histogram if we are using OpenCV 2.4.X\n",
        "\tif imutils.is_cv2():\n",
        "\t\thist = cv2.normalize(hist)\n",
        "\t# otherwise, perform \"in place\" normalization in OpenCV 3\n",
        "\telse:\n",
        "\t\tcv2.normalize(hist, hist)\n",
        "\t# return the flattened histogram as the feature vector\n",
        "\treturn hist.flatten()"
      ],
      "metadata": {
        "id": "3Ur-Cr96SzMb"
      },
      "execution_count": null,
      "outputs": []
    },
    {
      "cell_type": "code",
      "source": [
        "# grab the list of images that we'll be describing\n",
        "imagePaths = list(paths.list_images(train_dir))\n",
        "len(imagePaths)"
      ],
      "metadata": {
        "colab": {
          "base_uri": "https://localhost:8080/"
        },
        "id": "CpnFaYdgSzHD",
        "outputId": "123bf2c3-22ee-4dcb-8ca6-d03e3735f946"
      },
      "execution_count": null,
      "outputs": [
        {
          "output_type": "execute_result",
          "data": {
            "text/plain": [
              "25000"
            ]
          },
          "metadata": {},
          "execution_count": 21
        }
      ]
    },
    {
      "cell_type": "code",
      "source": [
        "rawImages = []\n",
        "features = []\n",
        "labels = []\n",
        "\n",
        "neighbors = 2\n",
        "\n",
        "\n",
        "for (i, imagePath) in enumerate(imagePaths):\n",
        "\t# load the image and extract the class label (assuming that our\n",
        "\t# path as the format: /path/to/dataset/{class}.{image_num}.jpg\n",
        "\timage = cv2.imread(imagePath)\n",
        "\tlabel = imagePath.split(os.path.sep)[-1].split(\".\")[0]\n",
        "    \n",
        "\t# extract raw pixel intensity \"features\", followed by a color\n",
        "\t# histogram to characterize the color distribution of the pixels\n",
        "\t# in the image\n",
        "\tpixels = image_to_feature_vector(image)\n",
        "\thist = extract_color_histogram(image)\n",
        "    \n",
        "\t# update the raw images, features, and labels matricies, respectively\n",
        "\trawImages.append(pixels)\n",
        "\tfeatures.append(hist)\n",
        "\tlabels.append(label)\n",
        "    \n",
        "\t# show an update every 1,000 images\n",
        "\tif i > 0 and i % 1000 == 0:\n",
        "\t\tprint(\"Processed {}/{}\".format(i, len(imagePaths)))"
      ],
      "metadata": {
        "colab": {
          "base_uri": "https://localhost:8080/"
        },
        "id": "pqiTE6cPWhit",
        "outputId": "65155ab4-c0db-4874-d189-f52e6b2a8119"
      },
      "execution_count": null,
      "outputs": [
        {
          "output_type": "stream",
          "name": "stdout",
          "text": [
            "Processed 1000/25000\n",
            "Processed 2000/25000\n",
            "Processed 3000/25000\n",
            "Processed 4000/25000\n",
            "Processed 5000/25000\n",
            "Processed 6000/25000\n",
            "Processed 7000/25000\n",
            "Processed 8000/25000\n",
            "Processed 9000/25000\n",
            "Processed 10000/25000\n",
            "Processed 11000/25000\n",
            "Processed 12000/25000\n",
            "Processed 13000/25000\n",
            "Processed 14000/25000\n",
            "Processed 15000/25000\n",
            "Processed 16000/25000\n",
            "Processed 17000/25000\n",
            "Processed 18000/25000\n",
            "Processed 19000/25000\n",
            "Processed 20000/25000\n",
            "Processed 21000/25000\n",
            "Processed 22000/25000\n",
            "Processed 23000/25000\n",
            "Processed 24000/25000\n"
          ]
        }
      ]
    },
    {
      "cell_type": "code",
      "source": [
        "# show some information on the memory consumed by the raw images matrix and features matrix\n",
        "rawImages = np.array(rawImages)\n",
        "features = np.array(features)\n",
        "labels = np.array(labels)\n",
        "print(\"[INFO] pixels matrix: {:.2f}MB\".format(\n",
        "\trawImages.nbytes / (1024 * 1000.0)))\n",
        "print(\"[INFO] features matrix: {:.2f}MB\".format(\n",
        "\tfeatures.nbytes / (1024 * 1000.0)))"
      ],
      "metadata": {
        "colab": {
          "base_uri": "https://localhost:8080/"
        },
        "id": "vzSm4-rnWhgD",
        "outputId": "526bd7cb-4dd9-4343-e04c-fbd1fc61d7d8"
      },
      "execution_count": null,
      "outputs": [
        {
          "output_type": "stream",
          "name": "stdout",
          "text": [
            "[INFO] pixels matrix: 75.00MB\n",
            "[INFO] features matrix: 50.00MB\n"
          ]
        }
      ]
    },
    {
      "cell_type": "code",
      "source": [
        "trainRI, testRI, trainRL, testRL = train_test_split(rawImages, labels, test_size=0.2)\n",
        "trainFeat, testFeat, trainLabels, testLabels = train_test_split(features, labels, test_size=0.2)"
      ],
      "metadata": {
        "id": "n2JXStP_Whdb"
      },
      "execution_count": null,
      "outputs": []
    },
    {
      "cell_type": "code",
      "source": [
        "# train and evaluate a k-NN classifer on the raw pixel intensities\n",
        "model = KNeighborsClassifier(n_neighbors=neighbors, n_jobs=-1)\n",
        "model.fit(trainRI, trainRL)\n",
        "raw_acc = model.score(testRI, testRL)\n",
        "print(\"Raw pixel accuracy: {:.2f}%\".format(raw_acc * 100))"
      ],
      "metadata": {
        "colab": {
          "base_uri": "https://localhost:8080/"
        },
        "id": "gU-Gl1KpWha9",
        "outputId": "45402076-5ebd-45f8-dd93-357bcb6ae93e"
      },
      "execution_count": null,
      "outputs": [
        {
          "output_type": "stream",
          "name": "stdout",
          "text": [
            "Raw pixel accuracy: 53.26%\n"
          ]
        }
      ]
    },
    {
      "cell_type": "code",
      "source": [
        "# train and evaluate a k-NN classifer on the feature pixel intensities\n",
        "model = KNeighborsClassifier(n_neighbors=neighbors, n_jobs=-1)\n",
        "model.fit(trainFeat, trainLabels)\n",
        "feat_acc = model.score(testFeat, testLabels)\n",
        "print(\"Feature pixel accuracy: {:.2f}%\".format(feat_acc * 100))"
      ],
      "metadata": {
        "colab": {
          "base_uri": "https://localhost:8080/"
        },
        "id": "P5uiN32kWvrB",
        "outputId": "77673e4b-f0cc-4093-e0f3-be80d52c2d87"
      },
      "execution_count": null,
      "outputs": [
        {
          "output_type": "stream",
          "name": "stdout",
          "text": [
            "Feature pixel accuracy: 58.98%\n"
          ]
        }
      ]
    },
    {
      "cell_type": "code",
      "source": [
        "# initialize the raw pixel intensities matrix, the features matrix, and labels list\n",
        "testPaths = list(paths.list_images(test_dir))\n",
        "testImages = []\n",
        "testFeatures = []\n",
        "# testLabels = []"
      ],
      "metadata": {
        "id": "sqpmDVmrWvos"
      },
      "execution_count": null,
      "outputs": []
    },
    {
      "cell_type": "code",
      "source": [
        "for (i, imagePath) in enumerate(testPaths):\n",
        "\t# load the image and extract the class label (assuming that our\n",
        "\t# path as the format: /path/to/dataset/{class}.{image_num}.jpg\n",
        "\timage = cv2.imread(imagePath)\n",
        "# \tlabel = imagePath.split(os.path.sep)[-1].split(\".\")[0]\n",
        "    \n",
        "\t# extract raw pixel intensity \"features\", followed by a color\n",
        "\t# histogram to characterize the color distribution of the pixels\n",
        "\t# in the image\n",
        "\tpixels = image_to_feature_vector(image)\n",
        "\thist = extract_color_histogram(image)\n",
        "    \n",
        "\t# update the raw images, features, and labels matricies, respectively\n",
        "\ttestImages.append(pixels)\n",
        "\ttestFeatures.append(hist)\n",
        "# \ttestLabels.append(label)\n",
        "    \n",
        "\t# show an update every 1,000 images\n",
        "\tif i > 0 and i % 1000 == 0:\n",
        "\t\tprint(\"[INFO] processed {}/{}\".format(i, len(testPaths)))"
      ],
      "metadata": {
        "colab": {
          "base_uri": "https://localhost:8080/"
        },
        "id": "-qP4H-y8Wvl8",
        "outputId": "779578a1-09a7-4dbe-a8c6-83329121cf61"
      },
      "execution_count": null,
      "outputs": [
        {
          "output_type": "stream",
          "name": "stdout",
          "text": [
            "[INFO] processed 1000/12500\n",
            "[INFO] processed 2000/12500\n",
            "[INFO] processed 3000/12500\n",
            "[INFO] processed 4000/12500\n",
            "[INFO] processed 5000/12500\n",
            "[INFO] processed 6000/12500\n",
            "[INFO] processed 7000/12500\n",
            "[INFO] processed 8000/12500\n",
            "[INFO] processed 9000/12500\n",
            "[INFO] processed 10000/12500\n",
            "[INFO] processed 11000/12500\n",
            "[INFO] processed 12000/12500\n"
          ]
        }
      ]
    },
    {
      "cell_type": "code",
      "source": [
        "pred = model.predict(testFeatures)\n",
        "pred = np.array([0 if x == \"dog\" else 1 for x in pred ])"
      ],
      "metadata": {
        "id": "HF6mxDaqWvjU"
      },
      "execution_count": null,
      "outputs": []
    },
    {
      "cell_type": "code",
      "source": [
        "pred"
      ],
      "metadata": {
        "colab": {
          "base_uri": "https://localhost:8080/"
        },
        "id": "dTpf3UpyWvgr",
        "outputId": "a6941961-ca8c-4080-e55d-2775eb11ce6f"
      },
      "execution_count": null,
      "outputs": [
        {
          "output_type": "execute_result",
          "data": {
            "text/plain": [
              "array([1, 1, 1, ..., 1, 1, 0])"
            ]
          },
          "metadata": {},
          "execution_count": 30
        }
      ]
    },
    {
      "cell_type": "code",
      "source": [],
      "metadata": {
        "id": "au0i1m-oWveT"
      },
      "execution_count": null,
      "outputs": []
    }
  ]
}